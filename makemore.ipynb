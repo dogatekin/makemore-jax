{
 "cells": [
  {
   "cell_type": "markdown",
   "id": "434d4dea",
   "metadata": {},
   "source": [
    "# makemore-jax"
   ]
  },
  {
   "cell_type": "code",
   "execution_count": 1,
   "id": "f248b4d3",
   "metadata": {},
   "outputs": [],
   "source": [
    "import random\n",
    "\n",
    "import numpy as np\n",
    "import jax.numpy as jnp\n",
    "import jax.random as jrandom\n",
    "\n",
    "from jax import grad, value_and_grad"
   ]
  },
  {
   "cell_type": "markdown",
   "id": "6932a077",
   "metadata": {},
   "source": [
    "## Data"
   ]
  },
  {
   "cell_type": "code",
   "execution_count": 2,
   "id": "26d52dc6",
   "metadata": {},
   "outputs": [
    {
     "data": {
      "text/plain": [
       "32033"
      ]
     },
     "execution_count": 2,
     "metadata": {},
     "output_type": "execute_result"
    }
   ],
   "source": [
    "with open('names.txt') as f:\n",
    "    words = f.read().splitlines()\n",
    "\n",
    "len(words)"
   ]
  },
  {
   "cell_type": "code",
   "execution_count": 3,
   "id": "9ef4d10a",
   "metadata": {},
   "outputs": [
    {
     "data": {
      "text/plain": [
       "27"
      ]
     },
     "execution_count": 3,
     "metadata": {},
     "output_type": "execute_result"
    }
   ],
   "source": [
    "chars = sorted(set(''.join(words)))\n",
    "stoi = {s: i+1 for i, s in enumerate(chars)}\n",
    "stoi['.'] = 0\n",
    "itos = {i: s for s, i in stoi.items()}\n",
    "\n",
    "len(stoi)"
   ]
  },
  {
   "cell_type": "code",
   "execution_count": 4,
   "id": "9de4bc25",
   "metadata": {},
   "outputs": [
    {
     "data": {
      "text/plain": [
       "(182625, 22655, 22866)"
      ]
     },
     "execution_count": 4,
     "metadata": {},
     "output_type": "execute_result"
    }
   ],
   "source": [
    "def build_dataset(words, block_size=3):\n",
    "    X, Y = [], []\n",
    "    for w in words:\n",
    "        context = [0] * block_size\n",
    "        for ch in w + '.':\n",
    "            ix = stoi[ch]\n",
    "            X.append(context)\n",
    "            Y.append(ix)\n",
    "            context = context[1:] + [ix]\n",
    "    return np.array(X), np.array(Y)\n",
    "\n",
    "random.seed(42)\n",
    "random.shuffle(words)\n",
    "n1 = int(0.8 * len(words))\n",
    "n2 = int(0.9 * len(words))\n",
    "\n",
    "Xtr, Ytr = build_dataset(words[:n1])\n",
    "Xdev, Ydev = build_dataset(words[n1:n2])\n",
    "Xte, Yte = build_dataset(words[n2:])\n",
    "\n",
    "len(Ytr), len(Ydev), len(Yte)"
   ]
  },
  {
   "cell_type": "markdown",
   "id": "d497e239",
   "metadata": {},
   "source": [
    "## Model"
   ]
  },
  {
   "cell_type": "code",
   "execution_count": 5,
   "id": "72451f21",
   "metadata": {},
   "outputs": [
    {
     "data": {
      "text/plain": [
       "3481"
      ]
     },
     "execution_count": 5,
     "metadata": {},
     "output_type": "execute_result"
    }
   ],
   "source": [
    "d = 2\n",
    "neurons = 100\n",
    "\n",
    "key = jrandom.PRNGKey(0)\n",
    "key, *subkeys = jrandom.split(key, 6)\n",
    "subkeys = iter(subkeys)\n",
    "\n",
    "C = jrandom.normal(next(subkeys), shape=(27, d))\n",
    "W1 = jrandom.normal(next(subkeys), shape=(d * 3, neurons))\n",
    "b1 = jrandom.normal(next(subkeys), shape=(neurons, ))\n",
    "W2 = jrandom.normal(next(subkeys), shape=(neurons, 27))\n",
    "b2 = jrandom.normal(next(subkeys), shape=(27, ))\n",
    "\n",
    "parameters = [C, W1, b1, W2, b2]\n",
    "sum(p.size for p in parameters)"
   ]
  },
  {
   "cell_type": "markdown",
   "id": "0e618f13",
   "metadata": {},
   "source": [
    "## Training"
   ]
  },
  {
   "cell_type": "code",
   "execution_count": 6,
   "id": "07c2679c",
   "metadata": {},
   "outputs": [],
   "source": [
    "def loss_fn(C, W1, b1, W2, b2, X, Y):\n",
    "    emb = C[X]\n",
    "    h = jnp.tanh(emb.reshape((-1, 6)) @ W1 + b1)\n",
    "    logits = h @ W2 + b2\n",
    "    logits -= logits.max(1, keepdims=True)\n",
    "    counts = jnp.exp(logits)\n",
    "    probs = counts / counts.sum(1, keepdims=True)\n",
    "    loss = -jnp.log(probs[jnp.arange(X.shape[0]), Y]).mean()\n",
    "    return loss"
   ]
  },
  {
   "cell_type": "code",
   "execution_count": 7,
   "id": "deeded80",
   "metadata": {
    "scrolled": true
   },
   "outputs": [],
   "source": [
    "key = jrandom.PRNGKey(0)\n",
    "lr = 0.1\n",
    "for _ in range(10000):\n",
    "    key, subkey = jrandom.split(key)\n",
    "    ix = jrandom.randint(subkey, shape=(32,), minval=0, maxval=Xtr.shape[0])\n",
    "    Xb, Yb = Xtr[ix], Ytr[ix]\n",
    "    \n",
    "    loss, (gC, gW1, gb1, gW2, gb2) = value_and_grad(loss_fn, argnums=(0, 1, 2, 3, 4))(C, W1, b1, W2, b2, Xb, Yb)\n",
    "\n",
    "    C -= lr * gC\n",
    "    W1 -= lr * gW1\n",
    "    b1 -= lr * gb1\n",
    "    W2 -= lr * gW2\n",
    "    b2 -= lr * gb2"
   ]
  },
  {
   "cell_type": "code",
   "execution_count": 8,
   "id": "e8fe3584",
   "metadata": {},
   "outputs": [
    {
     "data": {
      "text/plain": [
       "(Array(2.4665117, dtype=float32), Array(2.4582224, dtype=float32))"
      ]
     },
     "execution_count": 8,
     "metadata": {},
     "output_type": "execute_result"
    }
   ],
   "source": [
    "loss_fn(C, W1, b1, W2, b2, Xtr, Ytr), loss_fn(C, W1, b1, W2, b2, Xdev, Ydev)"
   ]
  },
  {
   "cell_type": "markdown",
   "id": "a2f8b163",
   "metadata": {},
   "source": [
    "## Visualization"
   ]
  },
  {
   "cell_type": "code",
   "execution_count": 10,
   "id": "e6835997",
   "metadata": {},
   "outputs": [
    {
     "data": {
      "image/png": "[encoded data removed]",
      "text/plain": [
       "<Figure size 640x480 with 1 Axes>"
      ]
     },
     "metadata": {},
     "output_type": "display_data"
    }
   ],
   "source": [
    "import matplotlib.pyplot as plt\n",
    "plt.scatter(C[:, 0], C[:, 1], s=200)\n",
    "for i in range(C.shape[0]):\n",
    "    plt.text(C[i, 0], C[i, 1], itos[i], ha=\"center\", va=\"center\", color=\"white\")\n",
    "plt.grid(\"minor\")"
   ]
  },
  {
   "cell_type": "markdown",
   "id": "33b2b2f4",
   "metadata": {},
   "source": [
    "## Sample"
   ]
  },
  {
   "cell_type": "code",
   "execution_count": 26,
   "id": "d69de97e",
   "metadata": {},
   "outputs": [
    {
     "name": "stdout",
     "output_type": "stream",
     "text": [
      "rur\n",
      "emh\n",
      "jah\n",
      "cafartlex\n",
      "brone\n",
      "jieai\n",
      "krillo\n",
      "jrayle\n",
      "karireio\n",
      "nie\n",
      "carlywh\n",
      "daree\n",
      "homi\n",
      "addelie\n",
      "amro\n",
      "aeum\n",
      "trciezeejmire\n",
      "mede\n",
      "kha\n",
      "nilis\n"
     ]
    }
   ],
   "source": [
    "key = jrandom.PRNGKey(0)\n",
    "for _ in range(20):\n",
    "    out = []\n",
    "    context = [0] * 3\n",
    "    while True:\n",
    "        emb = C[jnp.array(context)]\n",
    "        h = jnp.tanh(emb.reshape((-1, 6)) @ W1 + b1)\n",
    "        logits = h @ W2 + b2\n",
    "        logits -= logits.max(1, keepdims=True)\n",
    "        \n",
    "        key, subkey = jrandom.split(key)\n",
    "        ix = jrandom.categorical(subkey, logits).item()\n",
    "        \n",
    "        if ix == 0:\n",
    "            break\n",
    "        context = context[1:] + [ix]\n",
    "        out.append(ix)\n",
    "    \n",
    "    print(\"\".join(itos[i] for i in out))"
   ]
  }
 ],
 "metadata": {
  "kernelspec": {
   "display_name": "Python 3 (ipykernel)",
   "language": "python",
   "name": "python3"
  },
  "language_info": {
   "codemirror_mode": {
    "name": "ipython",
    "version": 3
   },
   "file_extension": ".py",
   "mimetype": "text/x-python",
   "name": "python",
   "nbconvert_exporter": "python",
   "pygments_lexer": "ipython3",
   "version": "3.11.3"
  }
 },
 "nbformat": 4,
 "nbformat_minor": 5
}
